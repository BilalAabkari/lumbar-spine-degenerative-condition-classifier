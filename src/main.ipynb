{
 "cells": [
  {
   "cell_type": "code",
   "execution_count": 1,
   "metadata": {},
   "outputs": [],
   "source": [
    "%load_ext autoreload\n",
    "%autoreload 2\n",
    "\n",
    "import pandas as pd\n",
    "from sympy import im\n",
    "from constants.Constants import PATH_ROUTES\n",
    "from utils.CustomDataset import CustomDataset\n",
    "from torch.utils.data import DataLoader\n",
    "import torch\n",
    "import torch.nn as nn\n",
    "import torch.optim as optim\n",
    "import torch.nn.functional as F\n",
    "from torchvision import transforms\n",
    "from NeuralNets.CNN import CustomResNet34, ConvNetV1\n",
    "from helpers.customMetrics import Accuracy\n",
    "from PIL import Image\n",
    "import sys\n",
    "import time\n"
   ]
  },
  {
   "cell_type": "code",
   "execution_count": 2,
   "metadata": {},
   "outputs": [
    {
     "data": {
      "text/plain": [
       "'\\n\\ntrain_files_path = train_dataset.file_paths\\ntrain_files_labels = train_dataset.labels\\n\\ntest_files_path = test_dataset.file_paths\\ntest_files_labels = test_dataset.labels\\n\\nimage, label = test_dataset.__getitem__(9)\\nimage.show()\\n'"
      ]
     },
     "execution_count": 2,
     "metadata": {},
     "output_type": "execute_result"
    }
   ],
   "source": [
    "train_index = pd.read_csv(PATH_ROUTES.TRAIN_CSV_INDEX_PATH)\n",
    "\n",
    "class GrayscaleToRGB:\n",
    "    def __call__(self, img):\n",
    "        return img.convert(\"RGB\")\n",
    "    \n",
    "image_size = 256\n",
    "\n",
    "\n",
    "custom_transform = transforms.Compose([\n",
    "    transforms.Resize((image_size, image_size)),\n",
    "    #GrayscaleToRGB(),\n",
    "    transforms.ToTensor(),\n",
    "    transforms.Normalize((0.5), (0.5)),\n",
    "])\n",
    "\n",
    "\n",
    "dataset = CustomDataset(train_index=train_index, \n",
    "                        use_cache=False, \n",
    "                        cache_max_size=10000, \n",
    "                        transform=custom_transform, \n",
    "                        train_size=500)\n",
    "\n",
    "train_dataset, test_dataset = CustomDataset.split_train_test_set(dataset=dataset, test_size=0.2)\n",
    "\n",
    "\"\"\"\n",
    "\n",
    "train_files_path = train_dataset.file_paths\n",
    "train_files_labels = train_dataset.labels\n",
    "\n",
    "test_files_path = test_dataset.file_paths\n",
    "test_files_labels = test_dataset.labels\n",
    "\n",
    "image, label = test_dataset.__getitem__(9)\n",
    "image.show()\n",
    "\"\"\""
   ]
  },
  {
   "cell_type": "code",
   "execution_count": 3,
   "metadata": {},
   "outputs": [
    {
     "data": {
      "text/plain": [
       "(tensor([[[-1., -1., -1.,  ..., -1., -1., -1.],\n",
       "          [-1., -1., -1.,  ..., -1., -1., -1.],\n",
       "          [-1., -1., -1.,  ..., -1., -1., -1.],\n",
       "          ...,\n",
       "          [-1., -1., -1.,  ..., -1., -1., -1.],\n",
       "          [-1., -1., -1.,  ..., -1., -1., -1.],\n",
       "          [-1., -1., -1.,  ..., -1., -1., -1.]]]),\n",
       " tensor([1., 0., 0., 1., 0., 0., 1., 0., 0., 1., 0., 0., 1., 0., 0., 1., 0., 0.,\n",
       "         1., 0., 0., 1., 0., 0., 0., 1., 0., 1., 0., 0., 1., 0., 0., 1., 0., 0.,\n",
       "         1., 0., 0., 1., 0., 0., 1., 0., 0., 1., 0., 0., 1., 0., 0., 0., 1., 0.,\n",
       "         0., 1., 0., 1., 0., 0., 1., 0., 0., 1., 0., 0., 1., 0., 0., 1., 0., 0.,\n",
       "         1., 0., 0.]))"
      ]
     },
     "execution_count": 3,
     "metadata": {},
     "output_type": "execute_result"
    }
   ],
   "source": [
    "\"\"\"\n",
    "image, label = item = test_dataset.__getitem__(3)\n",
    "label2 = label.view(-1, 5, 5, 3)\n",
    "classes = test_dataset.classes\n",
    "\"\"\"\n",
    "\n",
    "\n",
    "train_dataset.__getitem__(0)\n",
    "\n",
    "\n",
    "\n"
   ]
  },
  {
   "cell_type": "code",
   "execution_count": 4,
   "metadata": {},
   "outputs": [],
   "source": [
    "train_loader = DataLoader(train_dataset, batch_size=64, shuffle=True, num_workers=2)\n",
    "test_loader = DataLoader(test_dataset, batch_size=1, shuffle=False)"
   ]
  },
  {
   "cell_type": "code",
   "execution_count": 5,
   "metadata": {},
   "outputs": [
    {
     "name": "stdout",
     "output_type": "stream",
     "text": [
      "cuda\n"
     ]
    }
   ],
   "source": [
    "\n",
    "#model = CustomResNet34(5,5)\n",
    "model = ConvNetV1(image_size)\n",
    "criterion = nn.CrossEntropyLoss()\n",
    "optimizer = optim.Adam(model.parameters(), lr=1E-4)\n",
    "device = torch.device('cuda')\n",
    "model = model.to(device)\n",
    "\n",
    "print(device)\n"
   ]
  },
  {
   "cell_type": "code",
   "execution_count": 6,
   "metadata": {},
   "outputs": [
    {
     "name": "stdout",
     "output_type": "stream",
     "text": [
      "Batch [46/47] ended, cache length 0\n",
      "Epoch [1/50], Loss: 99.9876, Accuracy: 85.34%, Test Accuracy: 86.42%\n",
      "Batch [46/47] ended, cache length 0\n",
      "Epoch [2/50], Loss: 99.5323, Accuracy: 86.02%, Test Accuracy: 86.42%\n",
      "Batch [46/47] ended"
     ]
    }
   ],
   "source": [
    "num_epochs = 50\n",
    "show_batch_info = True\n",
    "\n",
    "for epoch in range(num_epochs):\n",
    "    \n",
    "    running_loss = 0.0\n",
    "    correct_predictions = 0\n",
    "    total_predictions = 0\n",
    "    current_batch = 0\n",
    "\n",
    "    for inputs, labels in train_loader:\n",
    "        inputs, labels = inputs.to(device), labels.to(device)\n",
    "        \n",
    "        optimizer.zero_grad()\n",
    "        \n",
    "        outputs = model(inputs)\n",
    "        output_reshaped = torch.flatten(outputs, start_dim=1)\n",
    "        loss = criterion(labels, output_reshaped)\n",
    "        loss.backward()\n",
    "        optimizer.step()\n",
    "        with torch.no_grad():\n",
    "            hits = Accuracy(outputs, labels)\n",
    "        correct_predictions += hits\n",
    "        total_predictions += labels.size(0) * labels.size(1)\n",
    "        running_loss += loss.item() * inputs.size(0)\n",
    "        if (show_batch_info):\n",
    "            batch_info = \"Batch [\" + str(current_batch) + \"/\" + str(len(train_loader)) + \"] ended\"\n",
    "            sys.stdout.write(\"\\r\" + batch_info)\n",
    "            sys.stdout.flush()\n",
    "        \n",
    "        current_batch += 1\n",
    "\n",
    "    correct_test_predictions = 0\n",
    "    total_test_predictions = 0\n",
    "    for inputs, labels in test_loader:\n",
    "            inputs, labels = inputs.to(device), labels.to(device)\n",
    "                        \n",
    "            outputs = model(inputs)\n",
    "            output_reshaped = torch.flatten(outputs, start_dim=1)\n",
    "            loss = criterion(labels, output_reshaped)\n",
    "\n",
    "            hits = Accuracy(outputs, labels)\n",
    "            correct_test_predictions += hits\n",
    "            total_test_predictions += labels.size(0) * labels.size(1)\n",
    "            \n",
    "    epoch_accuracy = correct_predictions / total_predictions * 100.0\n",
    "    epoch_test_accuracy = correct_test_predictions / total_test_predictions * 100.0\n",
    "    print(\", cache length\",len(train_dataset.cacheDict.dict))\n",
    "    epoch_loss = running_loss / len(train_loader.dataset)\n",
    "    \n",
    "    if (show_batch_info):\n",
    "        sys.stdout.write(\"\\r\")\n",
    "        sys.stdout.flush()\n",
    "        sys.stdout.write(\"\\r\")\n",
    "        sys.stdout.flush()\n",
    "        sys.stdout.write(\"\\r\")\n",
    "        sys.stdout.flush()\n",
    "    print(f'Epoch [{epoch+1}/{num_epochs}], Loss: {epoch_loss:.4f}, Accuracy: {epoch_accuracy:.2f}%, Test Accuracy: {epoch_test_accuracy:.2f}%')\n",
    "\n",
    "        \n",
    "        "
   ]
  },
  {
   "cell_type": "code",
   "execution_count": null,
   "metadata": {},
   "outputs": [
    {
     "name": "stdout",
     "output_type": "stream",
     "text": [
      "0\n"
     ]
    }
   ],
   "source": [
    "a = train_dataset.cacheDict.dict\n",
    "print(len(train_dataset.cacheDict.dict))\n",
    "for key in a.keys():\n",
    "    print(key)"
   ]
  },
  {
   "cell_type": "markdown",
   "metadata": {},
   "source": []
  }
 ],
 "metadata": {
  "kernelspec": {
   "display_name": "Python 3",
   "language": "python",
   "name": "python3"
  },
  "language_info": {
   "codemirror_mode": {
    "name": "ipython",
    "version": 3
   },
   "file_extension": ".py",
   "mimetype": "text/x-python",
   "name": "python",
   "nbconvert_exporter": "python",
   "pygments_lexer": "ipython3",
   "version": "3.11.5"
  }
 },
 "nbformat": 4,
 "nbformat_minor": 2
}
